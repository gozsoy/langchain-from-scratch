{
 "cells": [
  {
   "cell_type": "code",
   "execution_count": null,
   "metadata": {},
   "outputs": [],
   "source": [
    "# connect 5 tools: weather + kg frus rag + convert time + arxiv + duckduckgo\n",
    "# allow daily conversation beyond tool use (+ memory)\n",
    "\n",
    "# todo:\n",
    "# 1- add conversation memory to agent (make sure it chats beyond tool-use)\n",
    "# 2- add rag\n",
    "# 3- add serpapi"
   ]
  },
  {
   "cell_type": "code",
   "execution_count": 1,
   "metadata": {},
   "outputs": [],
   "source": [
    "import os\n",
    "import ast\n",
    "from dotenv import load_dotenv\n",
    "import arxiv\n",
    "\n",
    "from langchain_openai import ChatOpenAI\n",
    "from langchain_huggingface import HuggingFaceEndpoint, ChatHuggingFace\n",
    "\n",
    "load_dotenv()\n",
    "\n",
    "OPENAI_API_KEY = os.getenv('OPENAI_API_KEY')\n",
    "HUGGINGFACEHUB_API_TOKEN = os.getenv('HUGGINGFACEHUB_API_TOKEN')"
   ]
  },
  {
   "cell_type": "code",
   "execution_count": 4,
   "metadata": {},
   "outputs": [],
   "source": [
    "chat_model = ChatOpenAI(stop=[\"Observation:\"])"
   ]
  },
  {
   "cell_type": "code",
   "execution_count": null,
   "metadata": {},
   "outputs": [],
   "source": [
    "from langchain_core.documents import Document\n",
    "from langchain_chroma import Chroma\n",
    "\n",
    "from langchain_huggingface.embeddings import HuggingFaceEmbeddings\n",
    "from langchain_community.document_loaders import PyPDFLoader\n",
    "from langchain_text_splitters import RecursiveCharacterTextSplitter\n",
    "\n",
    "from langchain_openai import ChatOpenAI\n",
    "\n",
    "chat_model = ChatOpenAI()\n",
    "\n",
    "file_path = (\n",
    "    \"../../eth_courses/thesis/gokberk_thesis_report_04_06_23.pdf\"\n",
    ")\n",
    "loader = PyPDFLoader(file_path)\n",
    "pages = loader.load_and_split()\n",
    "\n",
    "text_splitter = RecursiveCharacterTextSplitter(\n",
    "    chunk_size=1000, chunk_overlap=200, add_start_index=True\n",
    ")\n",
    "all_splits = text_splitter.split_documents(pages)\n",
    "\n",
    "vectorstore = Chroma.from_documents(\n",
    "    all_splits,\n",
    "    embedding=HuggingFaceEmbeddings(),\n",
    ")\n",
    "\n",
    "prompt = \"\"\"System: You are an assistant for question-answering tasks. \n",
    "Use the following pieces of retrieved context to answer the question. If you don't know the answer, just say that you don't know.\n",
    "Use three sentences maximum and keep the answer concise.\n",
    "\n",
    "Context: {context}\n",
    "\n",
    "Human: {input}\n",
    "AI:\n",
    "\"\"\"\n",
    "\n",
    "contextualize_q_system_prompt = \"\"\"Given a chat history and the latest user question which might reference context in the chat history, \n",
    "formulate a standalone question which can be understood without the chat history. \n",
    "Do NOT answer the question, just reformulate it if needed and otherwise return it as is.\n",
    "If chat history is empty (''), do NOT change anything in the question.\n",
    "\n",
    "Chat history:\n",
    "{history}\n",
    "Question:\n",
    "{input}\n",
    "Reformulated Question:\n",
    "\"\"\""
   ]
  },
  {
   "cell_type": "code",
   "execution_count": 5,
   "metadata": {},
   "outputs": [],
   "source": [
    "def arxiv_search(args):\n",
    "    # Construct the default API client.\n",
    "    client = arxiv.Client()\n",
    "\n",
    "    # Search for the paper with ID\n",
    "    query = args['query'] if 'query' in args else \"\"\n",
    "    id_list = [args['id']] if 'id' in args else []\n",
    "    \n",
    "    search_by_id = arxiv.Search(query=query,\n",
    "                                id_list=id_list)\n",
    "    # Reuse client to fetch the paper, then print its title.\n",
    "    first_result = next(client.results(search_by_id))\n",
    "    \n",
    "    return first_result.title\n",
    "\n",
    "def convert_time(args):\n",
    "\n",
    "    temp = args['time'].split(':')\n",
    "\n",
    "    return int(temp[0])*3600 + int(temp[1])*60 + int(temp[2])\n",
    "\n",
    "\n",
    "def kgfrus_search(args):\n",
    "\n",
    "    global history\n",
    "\n",
    "    rephrased_q = chat_model.invoke(contextualize_q_system_prompt.format(input=args['question'],history=history)).content\n",
    "    print(rephrased_q)\n",
    "\n",
    "    context = \"\\n\\n\".join([doc.page_content for doc in vectorstore.similarity_search(rephrased_q)])\n",
    "\n",
    "    prompt_after_formatting = prompt.format(input=rephrased_q,\n",
    "                                            context=context)\n",
    "    print(prompt_after_formatting)\n",
    "    output = chat_model.invoke(prompt_after_formatting)\n",
    "\n",
    "    history += f\"Human: {args['question']}\\nAI: {output.content}\\n\"\n",
    "\n",
    "    return output.content\n"
   ]
  },
  {
   "cell_type": "code",
   "execution_count": null,
   "metadata": {},
   "outputs": [],
   "source": [
    "system_prompt1 = \"\"\"Answer the following question as best you can. You have access to the following tools:\n",
    "\n",
    "{tools}\n",
    "\n",
    "ALWAYS use the following format:\n",
    "\n",
    "Question: the input question you must answer\n",
    "Thought: you should always think about what to do. only one action at a time.\n",
    "Action: the action to take, should be one of {tool_names}\n",
    "Action Input: the input to the action\n",
    "Observation: the result of the action\n",
    "... (this Thought/Action/Action Input/Observation can repeat N times)\n",
    "Thought: I now know the final answer\n",
    "Final Answer: the final answer to the original input question\n",
    "\n",
    "Begin! Reminder to ALWAYS use the exact characters `Final Answer:` when you provide a definitive answer.\n",
    "\n",
    "Conversation History: \n",
    "{history}\n",
    "Question: {input}\n",
    "Thought:{agent_scratchpad}\"\"\"\n",
    "\n",
    "tools = {\n",
    "    'convert_time': 'A function to convert a time string with format H:MM:SS to seconds, args: {\"time\": {\"type\": \"string\"}}',\n",
    "    'arxiv_search': 'A function to get information about a scientific article or articles, args: {\"query\": {\"type\": \"string\"}, \"id\": {\"type\": \"string\"}}'\n",
    "}"
   ]
  },
  {
   "cell_type": "code",
   "execution_count": 6,
   "metadata": {},
   "outputs": [],
   "source": [
    "system_prompt = \"\"\"You are a helpful assistant that can help with a wide range of tasks and provide valuable insights and information on a wide range of topics. Whether the human needs help with a specific question or just want to have a conversation about a particular topic, you are here to assist. You may not need to use tools for every query - the human may just want to chat!\n",
    "\n",
    "TOOLS:\n",
    "------\n",
    "Assistant has access to the following tools:\n",
    "\n",
    "{tools}\n",
    "\n",
    "To use a tool, you MUST use the following format:\n",
    "\n",
    "Question: the input question you must answer\n",
    "Thought: Do I need to use a tool? Yes. (only one action at a time.)\n",
    "Action: the action to take, should be one of {tool_names}\n",
    "Action Input: the input to the action\n",
    "Observation: the result of the action\n",
    "... (this Thought/Action/Action Input/Observation can repeat N times)\n",
    "\n",
    "\n",
    "When you have a response to say to the Human, or if you do not need to use a tool, you MUST use the format:\n",
    "\n",
    "Thought: Do I need to use a tool? No.\n",
    "Final Answer: [your response here]\n",
    "I remind you to ALWAYS use the exact characters `Final Answer:` when you provide an answer.\n",
    "\n",
    "Begin!\n",
    "\n",
    "Conversation History: \n",
    "{history}\n",
    "Question: {input}\n",
    "Thought:{agent_scratchpad}\n",
    "\"\"\"\n",
    "\n",
    "tools = {\n",
    "    'convert_time': 'A function to convert a time string with format H:MM:SS to seconds, args: {\"time\": {\"type\": \"string\"}}',\n",
    "    'arxiv_search': 'A function to get information about a scientific article or articles, args: {\"query\": {\"type\": \"string\"}, \"id\": {\"type\": \"string\"}}'\n",
    "}"
   ]
  },
  {
   "cell_type": "code",
   "execution_count": 7,
   "metadata": {},
   "outputs": [],
   "source": [
    "history = ''\n",
    "agent_scratchpad = ''\n",
    "\n",
    "def ask(question):\n",
    "\n",
    "    global history, agent_scratchpad\n",
    "\n",
    "    tools_str = ''\n",
    "\n",
    "    for func, desc in tools.items():\n",
    "        tools_str += f\"{func} : {desc}\\n\"\n",
    "    \n",
    "    prompt_after_formatting = system_prompt.format(input=question, \n",
    "                                                   agent_scratchpad=agent_scratchpad, \n",
    "                                                   tools=tools_str, \n",
    "                                                   tool_names=list(tools.keys()),\n",
    "                                                   history=history)\n",
    "    print(prompt_after_formatting)\n",
    "    output = chat_model.invoke(prompt_after_formatting)\n",
    "    print(output.content)\n",
    "    \n",
    "    # keep reasoning\n",
    "    while output.content.find(\"Final Answer: \")==-1:\n",
    "\n",
    "        agent_scratchpad += output.content\n",
    "\n",
    "        function_name = output.content.split(\"Action: \")[1].split('\\n')[0]\n",
    "        function_args = ast.literal_eval(output.content.split(\"Action Input: \")[1].split('\\n')[0])\n",
    "\n",
    "        result = globals()[function_name](function_args)\n",
    "        agent_scratchpad += f\"Observation: {result}\\n\"\n",
    "        print(f\"Observation: {result}\\n\")\n",
    "        \n",
    "        prompt_after_formatting = system_prompt.format(input=question, \n",
    "                                                    agent_scratchpad=agent_scratchpad, \n",
    "                                                    tools=tools_str, \n",
    "                                                    tool_names=list(tools.keys()),\n",
    "                                                    history=history)\n",
    "\n",
    "        output = chat_model.invoke(prompt_after_formatting)\n",
    "        print(output.content)\n",
    "    \n",
    "    # store question and answer in memory\n",
    "    history += f\"Human: {question}\\nAI: {output.content.split('Final Answer: ')[1]}\\n\"\n",
    "    \n",
    "    # empty scratchpad for next question\n",
    "    agent_scratchpad = ''\n",
    "\n",
    "    return output.content"
   ]
  },
  {
   "cell_type": "code",
   "execution_count": 8,
   "metadata": {},
   "outputs": [
    {
     "name": "stdout",
     "output_type": "stream",
     "text": [
      "You are a helpful assistant that can help with a wide range of tasks and provide valuable insights and information on a wide range of topics. Whether the human needs help with a specific question or just want to have a conversation about a particular topic, you are here to assist. You may not need to use tools for every query - the human may just want to chat!\n",
      "\n",
      "TOOLS:\n",
      "------\n",
      "Assistant has access to the following tools:\n",
      "\n",
      "convert_time : A function to convert a time string with format H:MM:SS to seconds, args: {\"time\": {\"type\": \"string\"}}\n",
      "arxiv_search : A function to get information about a scientific article or articles, args: {\"query\": {\"type\": \"string\"}, \"id\": {\"type\": \"string\"}}\n",
      "\n",
      "\n",
      "To use a tool, you MUST use the following format:\n",
      "\n",
      "Question: the input question you must answer\n",
      "Thought: Do I need to use a tool? Yes. (only one action at a time.)\n",
      "Action: the action to take, should be one of ['convert_time', 'arxiv_search']\n",
      "Action Input: the input to the action\n",
      "Observation: the result of the action\n",
      "... (this Thought/Action/Action Input/Observation can repeat N times)\n",
      "\n",
      "\n",
      "When you have a response to say to the Human, or if you do not need to use a tool, you MUST use the format:\n",
      "\n",
      "Thought: Do I need to use a tool? No.\n",
      "Final Answer: [your response here]\n",
      "I remind you to ALWAYS use the exact characters `Final Answer:` when you provide an answer.\n",
      "\n",
      "Begin!\n",
      "\n",
      "Conversation History: \n",
      "\n",
      "Question: First answer how many seconds in 4:00:01.\n",
      "Thought:\n",
      "\n",
      "Do I need to use a tool? Yes.\n",
      "Action: convert_time\n",
      "Action Input: {\"time\": \"4:00:01\"}\n",
      "\n",
      "Observation: 14401\n",
      "\n",
      "Thought: Do I need to use a tool? No.\n",
      "Final Answer: The conversion of 4:00:01 to seconds is 14401.\n"
     ]
    },
    {
     "data": {
      "text/plain": [
       "'Thought: Do I need to use a tool? No.\\nFinal Answer: The conversion of 4:00:01 to seconds is 14401.'"
      ]
     },
     "execution_count": 8,
     "metadata": {},
     "output_type": "execute_result"
    }
   ],
   "source": [
    "ask(\"First answer how many seconds in 4:00:01.\")"
   ]
  },
  {
   "cell_type": "code",
   "execution_count": 9,
   "metadata": {},
   "outputs": [
    {
     "name": "stdout",
     "output_type": "stream",
     "text": [
      "You are a helpful assistant that can help with a wide range of tasks and provide valuable insights and information on a wide range of topics. Whether the human needs help with a specific question or just want to have a conversation about a particular topic, you are here to assist. You may not need to use tools for every query - the human may just want to chat!\n",
      "\n",
      "TOOLS:\n",
      "------\n",
      "Assistant has access to the following tools:\n",
      "\n",
      "convert_time : A function to convert a time string with format H:MM:SS to seconds, args: {\"time\": {\"type\": \"string\"}}\n",
      "arxiv_search : A function to get information about a scientific article or articles, args: {\"query\": {\"type\": \"string\"}, \"id\": {\"type\": \"string\"}}\n",
      "\n",
      "\n",
      "To use a tool, you MUST use the following format:\n",
      "\n",
      "Question: the input question you must answer\n",
      "Thought: Do I need to use a tool? Yes. (only one action at a time.)\n",
      "Action: the action to take, should be one of ['convert_time', 'arxiv_search']\n",
      "Action Input: the input to the action\n",
      "Observation: the result of the action\n",
      "... (this Thought/Action/Action Input/Observation can repeat N times)\n",
      "\n",
      "\n",
      "When you have a response to say to the Human, or if you do not need to use a tool, you MUST use the format:\n",
      "\n",
      "Thought: Do I need to use a tool? No.\n",
      "Final Answer: [your response here]\n",
      "I remind you to ALWAYS use the exact characters `Final Answer:` when you provide an answer.\n",
      "\n",
      "Begin!\n",
      "\n",
      "Conversation History: \n",
      "Human: First answer how many seconds in 4:00:01.\n",
      "AI: The conversion of 4:00:01 to seconds is 14401.\n",
      "\n",
      "Question: Then answer What's the paper 1605.08386 about?\n",
      "Thought:\n",
      "\n",
      "Do I need to use a tool? Yes.\n",
      "Action: arxiv_search\n",
      "Action Input: {\"query\": \"1605.08386\"}\n",
      "\n",
      "Observation: Heat-bath random walks with Markov bases\n",
      "\n",
      "Thought: Do I need to use a tool? No.\n",
      "Final Answer: Heat-bath random walks with Markov bases.\n"
     ]
    },
    {
     "data": {
      "text/plain": [
       "'Thought: Do I need to use a tool? No.\\nFinal Answer: Heat-bath random walks with Markov bases.'"
      ]
     },
     "execution_count": 9,
     "metadata": {},
     "output_type": "execute_result"
    }
   ],
   "source": [
    "ask(\"Then answer What's the paper 1605.08386 about?\")"
   ]
  },
  {
   "cell_type": "code",
   "execution_count": 10,
   "metadata": {},
   "outputs": [
    {
     "name": "stdout",
     "output_type": "stream",
     "text": [
      "You are a helpful assistant that can help with a wide range of tasks and provide valuable insights and information on a wide range of topics. Whether the human needs help with a specific question or just want to have a conversation about a particular topic, you are here to assist. You may not need to use tools for every query - the human may just want to chat!\n",
      "\n",
      "TOOLS:\n",
      "------\n",
      "Assistant has access to the following tools:\n",
      "\n",
      "convert_time : A function to convert a time string with format H:MM:SS to seconds, args: {\"time\": {\"type\": \"string\"}}\n",
      "arxiv_search : A function to get information about a scientific article or articles, args: {\"query\": {\"type\": \"string\"}, \"id\": {\"type\": \"string\"}}\n",
      "\n",
      "\n",
      "To use a tool, you MUST use the following format:\n",
      "\n",
      "Question: the input question you must answer\n",
      "Thought: Do I need to use a tool? Yes. (only one action at a time.)\n",
      "Action: the action to take, should be one of ['convert_time', 'arxiv_search']\n",
      "Action Input: the input to the action\n",
      "Observation: the result of the action\n",
      "... (this Thought/Action/Action Input/Observation can repeat N times)\n",
      "\n",
      "\n",
      "When you have a response to say to the Human, or if you do not need to use a tool, you MUST use the format:\n",
      "\n",
      "Thought: Do I need to use a tool? No.\n",
      "Final Answer: [your response here]\n",
      "I remind you to ALWAYS use the exact characters `Final Answer:` when you provide an answer.\n",
      "\n",
      "Begin!\n",
      "\n",
      "Conversation History: \n",
      "Human: First answer how many seconds in 4:00:01.\n",
      "AI: The conversion of 4:00:01 to seconds is 14401.\n",
      "Human: Then answer What's the paper 1605.08386 about?\n",
      "AI: Heat-bath random walks with Markov bases.\n",
      "\n",
      "Question: What's the previous paper about?\n",
      "Thought:\n",
      "\n",
      "Do I need to use a tool? Yes.\n",
      "Action: arxiv_search\n",
      "Action Input: {\"id\": \"1605.08386\"}\n",
      "\n",
      "Observation: Heat-bath random walks with Markov bases\n",
      "\n",
      "Thought: Do I need to use a tool? No.\n",
      "Final Answer: The previous paper is about \"Heat-bath random walks with Markov bases.\"\n"
     ]
    },
    {
     "data": {
      "text/plain": [
       "'Thought: Do I need to use a tool? No.\\nFinal Answer: The previous paper is about \"Heat-bath random walks with Markov bases.\"'"
      ]
     },
     "execution_count": 10,
     "metadata": {},
     "output_type": "execute_result"
    }
   ],
   "source": [
    "ask(\"What's the previous paper about?\")"
   ]
  },
  {
   "cell_type": "code",
   "execution_count": 11,
   "metadata": {},
   "outputs": [
    {
     "name": "stdout",
     "output_type": "stream",
     "text": [
      "You are a helpful assistant that can help with a wide range of tasks and provide valuable insights and information on a wide range of topics. Whether the human needs help with a specific question or just want to have a conversation about a particular topic, you are here to assist. You may not need to use tools for every query - the human may just want to chat!\n",
      "\n",
      "TOOLS:\n",
      "------\n",
      "Assistant has access to the following tools:\n",
      "\n",
      "convert_time : A function to convert a time string with format H:MM:SS to seconds, args: {\"time\": {\"type\": \"string\"}}\n",
      "arxiv_search : A function to get information about a scientific article or articles, args: {\"query\": {\"type\": \"string\"}, \"id\": {\"type\": \"string\"}}\n",
      "\n",
      "\n",
      "To use a tool, you MUST use the following format:\n",
      "\n",
      "Question: the input question you must answer\n",
      "Thought: Do I need to use a tool? Yes. (only one action at a time.)\n",
      "Action: the action to take, should be one of ['convert_time', 'arxiv_search']\n",
      "Action Input: the input to the action\n",
      "Observation: the result of the action\n",
      "... (this Thought/Action/Action Input/Observation can repeat N times)\n",
      "\n",
      "\n",
      "When you have a response to say to the Human, or if you do not need to use a tool, you MUST use the format:\n",
      "\n",
      "Thought: Do I need to use a tool? No.\n",
      "Final Answer: [your response here]\n",
      "I remind you to ALWAYS use the exact characters `Final Answer:` when you provide an answer.\n",
      "\n",
      "Begin!\n",
      "\n",
      "Conversation History: \n",
      "Human: First answer how many seconds in 4:00:01.\n",
      "AI: The conversion of 4:00:01 to seconds is 14401.\n",
      "Human: Then answer What's the paper 1605.08386 about?\n",
      "AI: Heat-bath random walks with Markov bases.\n",
      "Human: What's the previous paper about?\n",
      "AI: The previous paper is about \"Heat-bath random walks with Markov bases.\"\n",
      "\n",
      "Question: where is london located according to arxiv?\n",
      "Thought:\n",
      "\n",
      "Do I need to use a tool? No.\n",
      "Final Answer: London is located in the United Kingdom.\n"
     ]
    },
    {
     "data": {
      "text/plain": [
       "'Do I need to use a tool? No.\\nFinal Answer: London is located in the United Kingdom.'"
      ]
     },
     "execution_count": 11,
     "metadata": {},
     "output_type": "execute_result"
    }
   ],
   "source": [
    "ask(\"where is london located according to arxiv?\")"
   ]
  },
  {
   "cell_type": "code",
   "execution_count": 12,
   "metadata": {},
   "outputs": [
    {
     "name": "stdout",
     "output_type": "stream",
     "text": [
      "You are a helpful assistant that can help with a wide range of tasks and provide valuable insights and information on a wide range of topics. Whether the human needs help with a specific question or just want to have a conversation about a particular topic, you are here to assist. You may not need to use tools for every query - the human may just want to chat!\n",
      "\n",
      "TOOLS:\n",
      "------\n",
      "Assistant has access to the following tools:\n",
      "\n",
      "convert_time : A function to convert a time string with format H:MM:SS to seconds, args: {\"time\": {\"type\": \"string\"}}\n",
      "arxiv_search : A function to get information about a scientific article or articles, args: {\"query\": {\"type\": \"string\"}, \"id\": {\"type\": \"string\"}}\n",
      "\n",
      "\n",
      "To use a tool, you MUST use the following format:\n",
      "\n",
      "Question: the input question you must answer\n",
      "Thought: Do I need to use a tool? Yes. (only one action at a time.)\n",
      "Action: the action to take, should be one of ['convert_time', 'arxiv_search']\n",
      "Action Input: the input to the action\n",
      "Observation: the result of the action\n",
      "... (this Thought/Action/Action Input/Observation can repeat N times)\n",
      "\n",
      "\n",
      "When you have a response to say to the Human, or if you do not need to use a tool, you MUST use the format:\n",
      "\n",
      "Thought: Do I need to use a tool? No.\n",
      "Final Answer: [your response here]\n",
      "I remind you to ALWAYS use the exact characters `Final Answer:` when you provide an answer.\n",
      "\n",
      "Begin!\n",
      "\n",
      "Conversation History: \n",
      "Human: First answer how many seconds in 4:00:01.\n",
      "AI: The conversion of 4:00:01 to seconds is 14401.\n",
      "Human: Then answer What's the paper 1605.08386 about?\n",
      "AI: Heat-bath random walks with Markov bases.\n",
      "Human: What's the previous paper about?\n",
      "AI: The previous paper is about \"Heat-bath random walks with Markov bases.\"\n",
      "Human: where is london located according to arxiv?\n",
      "AI: London is located in the United Kingdom.\n",
      "\n",
      "Question: what did i ask you recently?\n",
      "Thought:\n",
      "\n",
      "Do I need to use a tool? No.\n",
      "Final Answer: You asked me where London is located according to arxiv.\n"
     ]
    },
    {
     "data": {
      "text/plain": [
       "'Do I need to use a tool? No.\\nFinal Answer: You asked me where London is located according to arxiv.'"
      ]
     },
     "execution_count": 12,
     "metadata": {},
     "output_type": "execute_result"
    }
   ],
   "source": [
    "ask(\"what did i ask you recently?\")"
   ]
  },
  {
   "cell_type": "code",
   "execution_count": 17,
   "metadata": {},
   "outputs": [
    {
     "name": "stdout",
     "output_type": "stream",
     "text": [
      "Fatih Terim (born 4 September 1953) is a Turkish professional football manager and former player. He was most recently the manager of Greek Super League club Panathinaikos.. During his football career, he played for Ceyhanspor, Adana Demirspor and Galatasaray. In his eleven years of playing time for Galatasaray, he won the Prime Minister's Cup in 1975 and in 1979, the Turkish Cup in 1975-1976 ...\n",
      "This is the profile site of the manager Fatih Terim. The site lists all clubs he coached and all clubs he played for. ... Date of birth/Age: Sep 4, 1953 (70) Place of Birth: Adana : Citizenship: Türkiye : Avg. term as coach: 2.15 Years: Coaching Licence: UEFA Pro Licence ...\n",
      "\"I am always the same Fatih Terim, from when I arrived at Galatasaray 50 years ago to now.\" Terim signed for Galatasaray as a midfielder, but shortly after joining was moved into defence.\n",
      "Date of birth/Age: Sep 4, 1953 (70) Place of birth ... Fatih Terim is the brother of Taner Terim (Retired). More news . Overview of top leagues . Sportiello, Terim & Co.: Further players infected with coronavirus\n",
      "Main position: Sweeper. Date of birth/Age: Sep 4, 1953 (70) Place of birth: Adana Height: 1,72 m Citizenship: Türkiye Position: Defender - Sweeper Foot: right Current club: Retired Joined: Aug 4, 1985 Contract expires: - Social-Media: Further information. Fatih Terim is the brother of Taner Terim (Retired).\n"
     ]
    }
   ],
   "source": [
    "from duckduckgo_search import DDGS\n",
    "\n",
    "results = DDGS().text(\"fatih terim age\", max_results=5)\n",
    "\n",
    "for r in results:\n",
    "    print(r['body'])"
   ]
  },
  {
   "cell_type": "code",
   "execution_count": 19,
   "metadata": {},
   "outputs": [],
   "source": [
    "import requests\n",
    "\n",
    "r= requests.get('http://api.openweathermap.org/data/2.5/weather?q=London,uk&APPID=1ea6383225e0a528062ba60887ef2491')"
   ]
  },
  {
   "cell_type": "code",
   "execution_count": 20,
   "metadata": {},
   "outputs": [
    {
     "data": {
      "text/plain": [
       "b'{\"coord\":{\"lon\":-0.1257,\"lat\":51.5085},\"weather\":[{\"id\":804,\"main\":\"Clouds\",\"description\":\"overcast clouds\",\"icon\":\"04d\"}],\"base\":\"stations\",\"main\":{\"temp\":296.65,\"feels_like\":296.2,\"temp_min\":294.87,\"temp_max\":297.34,\"pressure\":1009,\"humidity\":44,\"sea_level\":1009,\"grnd_level\":1005},\"visibility\":10000,\"wind\":{\"speed\":7.2,\"deg\":250},\"clouds\":{\"all\":100},\"dt\":1719505721,\"sys\":{\"type\":2,\"id\":2075535,\"country\":\"GB\",\"sunrise\":1719459920,\"sunset\":1719519702},\"timezone\":3600,\"id\":2643743,\"name\":\"London\",\"cod\":200}'"
      ]
     },
     "execution_count": 20,
     "metadata": {},
     "output_type": "execute_result"
    }
   ],
   "source": [
    "r.content"
   ]
  }
 ],
 "metadata": {
  "kernelspec": {
   "display_name": "venv",
   "language": "python",
   "name": "python3"
  },
  "language_info": {
   "codemirror_mode": {
    "name": "ipython",
    "version": 3
   },
   "file_extension": ".py",
   "mimetype": "text/x-python",
   "name": "python",
   "nbconvert_exporter": "python",
   "pygments_lexer": "ipython3",
   "version": "3.10.0"
  }
 },
 "nbformat": 4,
 "nbformat_minor": 2
}
